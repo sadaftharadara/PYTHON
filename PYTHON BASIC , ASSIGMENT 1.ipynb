{
 "cells": [
  {
   "cell_type": "raw",
   "id": "132f6629",
   "metadata": {},
   "source": [
    "1. In the below elements which of them are values or an expression? eg:- values can be\n",
    "integer or string and expressions will be mathematical operators.\n",
    "\n",
    "*----------expression\n",
    "\n",
    "'hello'--------value\n",
    "\n",
    "-87.8----------value\n",
    "\n",
    "-  ----------expression\n",
    "\n",
    "/ -----------expression\n",
    "\n",
    "+ -----------expression\n",
    "\n",
    "6------------ value\n"
   ]
  },
  {
   "cell_type": "code",
   "execution_count": null,
   "id": "83ac20a4",
   "metadata": {},
   "outputs": [],
   "source": [
    "2. What is the difference between string and variable?\n",
    "\n",
    "ans. \n",
    "string: string can be written in quotes such: \"sun\",'sun'\n",
    "        \n",
    "variable: it is the thing in which we can store data just like a container        "
   ]
  },
  {
   "cell_type": "code",
   "execution_count": null,
   "id": "8809dd4d",
   "metadata": {},
   "outputs": [],
   "source": [
    "3. Describe three different data types.\n",
    "ans.\n",
    "\n",
    "list: the list is used for storing multiple data item in a singal variable.\n",
    "    \n",
    "integer: integer can store only numerical values.\n",
    "    \n",
    "float: float can store only floating values such as 123.6, 45.9, 78.6    "
   ]
  },
  {
   "cell_type": "code",
   "execution_count": null,
   "id": "14732f9d",
   "metadata": {},
   "outputs": [],
   "source": [
    "4. What is an expression made up of? What do all expressions do?\n",
    "ans.\n",
    "Expression is made up off values , container ,and mathematical operators(operands)eg\n",
    " \n",
    "    a=2+3 and expression are used to evalute the values or represent the result on the screen.\n",
    "    "
   ]
  },
  {
   "cell_type": "code",
   "execution_count": null,
   "id": "29123ec4",
   "metadata": {},
   "outputs": [],
   "source": [
    "5. This assignment statements, like spam = 10. What is the difference between an\n",
    "expression and a statement?\n",
    "ans.\n",
    "Expression is made up of values , container, and mathematical operators (operands) and the statment is just like a command that a python interpreter executes like print"
   ]
  },
  {
   "cell_type": "code",
   "execution_count": null,
   "id": "5fc97460",
   "metadata": {},
   "outputs": [],
   "source": [
    "6. After running the following code, what does the variable bacon contain?\n",
    "bacon = 22\n",
    "\n",
    "bacon + 1\n",
    "ans. \n",
    "it gives 23 as execution code\n"
   ]
  },
  {
   "cell_type": "code",
   "execution_count": 1,
   "id": "17e0119a",
   "metadata": {},
   "outputs": [
    {
     "data": {
      "text/plain": [
       "23"
      ]
     },
     "execution_count": 1,
     "metadata": {},
     "output_type": "execute_result"
    }
   ],
   "source": [
    "bacon =22\n",
    "bacon+ 1"
   ]
  },
  {
   "cell_type": "code",
   "execution_count": null,
   "id": "6810beb2",
   "metadata": {},
   "outputs": [],
   "source": [
    "7. What should the values of the following two terms be?\n",
    "'spam'+ 'spamspam'\n",
    "\n",
    "'spam'*3\n",
    "\n",
    "ans. it will be the same\n",
    "code below"
   ]
  },
  {
   "cell_type": "code",
   "execution_count": 2,
   "id": "0718ac5d",
   "metadata": {},
   "outputs": [
    {
     "data": {
      "text/plain": [
       "'spamspamspam'"
      ]
     },
     "execution_count": 2,
     "metadata": {},
     "output_type": "execute_result"
    }
   ],
   "source": [
    "'spam'+ 'spamspam'"
   ]
  },
  {
   "cell_type": "code",
   "execution_count": 3,
   "id": "1c6621b0",
   "metadata": {},
   "outputs": [
    {
     "data": {
      "text/plain": [
       "'spamspamspam'"
      ]
     },
     "execution_count": 3,
     "metadata": {},
     "output_type": "execute_result"
    }
   ],
   "source": [
    "'spam'*3"
   ]
  },
  {
   "cell_type": "code",
   "execution_count": null,
   "id": "76d6a6e4",
   "metadata": {},
   "outputs": [],
   "source": [
    "8. Why is eggs a valid variable name while 100 is invalid?\n",
    "ans.\n",
    "Because we can't start giving variable an integer name . if we ,we should begin with, a string-like alphabet name then integer .e100\n",
    "or eggs 100 is valid"
   ]
  },
  {
   "cell_type": "code",
   "execution_count": null,
   "id": "d41dba6e",
   "metadata": {},
   "outputs": [],
   "source": [
    "9. What three functions can be used to get the integer, floating-point number, or string\n",
    "version of a value?\n",
    "ans. \n",
    "str(), int(), float()"
   ]
  },
  {
   "cell_type": "code",
   "execution_count": null,
   "id": "cf3ff1c2",
   "metadata": {},
   "outputs": [],
   "source": [
    "10. Why does this expression cause an error? How can you fix it?\n",
    "'i have eaten '+ 99 + 'burritos'\n",
    "ans. \n",
    "because 99 is an integer it cannot be concatenated with string , if we have to concatenate it we need to do typecasting.\n"
   ]
  },
  {
   "cell_type": "code",
   "execution_count": null,
   "id": "f2c4c168",
   "metadata": {},
   "outputs": [],
   "source": [
    "                                *THANK YOU*"
   ]
  }
 ],
 "metadata": {
  "kernelspec": {
   "display_name": "Python 3 (ipykernel)",
   "language": "python",
   "name": "python3"
  },
  "language_info": {
   "codemirror_mode": {
    "name": "ipython",
    "version": 3
   },
   "file_extension": ".py",
   "mimetype": "text/x-python",
   "name": "python",
   "nbconvert_exporter": "python",
   "pygments_lexer": "ipython3",
   "version": "3.9.7"
  }
 },
 "nbformat": 4,
 "nbformat_minor": 5
}
